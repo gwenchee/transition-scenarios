{
 "cells": [
  {
   "cell_type": "code",
   "execution_count": 1,
   "metadata": {},
   "outputs": [],
   "source": [
    "import csv\n",
    "import collections\n",
    "import dateutil.parser as date\n",
    "import jinja2\n",
    "import matplotlib.pyplot as plt\n",
    "import numpy as np\n",
    "import os\n",
    "import pathlib\n",
    "import sys\n",
    "import sqlite3 as lite\n",
    "from matplotlib import cm\n",
    "from pyne import nucname as nn\n",
    "from IPython.display import Image\n",
    "\n",
    "sys.path.append('../../scripts/')\n",
    "import analysis as an"
   ]
  },
  {
   "cell_type": "code",
   "execution_count": 2,
   "metadata": {},
   "outputs": [],
   "source": [
    "def load_template(in_template):\n",
    "    \"\"\" Returns a jinja2 template from file.\n",
    "\n",
    "    Parameters\n",
    "    ---------\n",
    "    in_template: str\n",
    "        path and name of jinja2 template\n",
    "\n",
    "    Returns\n",
    "    -------\n",
    "    output_template: jinja template object\n",
    "    \"\"\"\n",
    "    with open(in_template, 'r') as default:\n",
    "        output_template = jinja2.Template(default.read())\n",
    "    return output_template"
   ]
  },
  {
   "cell_type": "code",
   "execution_count": 33,
   "metadata": {},
   "outputs": [],
   "source": [
    "# Write input file with reactors of varying lifetimes\n",
    "reactor_template = 'templates/lwr_reactor_template.xml'\n",
    "reactor_template = load_template(reactor_template)\n",
    "for x in range(1,61): \n",
    "    name = 'lwr_reactor_' + str(x) \n",
    "    lifetime = 720 + 4*x\n",
    "    config = reactor_template.render(name=name,\n",
    "                                    lifetime=lifetime)\n",
    "    reactors = open(\"input/generated/lwr_reactors.xml\", \"a\")\n",
    "    reactors.write(config)"
   ]
  },
  {
   "cell_type": "code",
   "execution_count": 34,
   "metadata": {},
   "outputs": [],
   "source": [
    "# Write input file with reactor deployment at timestep 1\n",
    "deploy_template = 'templates/lwr_deploy_inst_template.xml'\n",
    "deploy_template = load_template(deploy_template)\n",
    "for x in range(1,61): \n",
    "    name = 'lwr_reactor_' + str(x) \n",
    "    config = deploy_template.render(prototype=name)\n",
    "    reactor_deployment = open(\"input/generated/lwr_reactor_deployment.xml\", \"a\")\n",
    "    reactor_deployment.write(config)"
   ]
  },
  {
   "cell_type": "code",
   "execution_count": null,
   "metadata": {},
   "outputs": [],
   "source": []
  }
 ],
 "metadata": {
  "kernelspec": {
   "display_name": "Python 3",
   "language": "python",
   "name": "python3"
  },
  "language_info": {
   "codemirror_mode": {
    "name": "ipython",
    "version": 3
   },
   "file_extension": ".py",
   "mimetype": "text/x-python",
   "name": "python",
   "nbconvert_exporter": "python",
   "pygments_lexer": "ipython3",
   "version": "3.6.5"
  }
 },
 "nbformat": 4,
 "nbformat_minor": 2
}
